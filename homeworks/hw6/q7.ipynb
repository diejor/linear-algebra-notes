{
 "cells": [
  {
   "cell_type": "code",
   "execution_count": 15,
   "metadata": {},
   "outputs": [
    {
     "name": "stdout",
     "output_type": "stream",
     "text": [
      "[[ 1. ]\n",
      " [ 4. ]\n",
      " [ 9. ]\n",
      " [14.4]]\n",
      "14.4\n"
     ]
    },
    {
     "data": {
      "text/plain": [
       "156"
      ]
     },
     "execution_count": 15,
     "metadata": {},
     "output_type": "execute_result"
    }
   ],
   "source": [
    "from numpy import *\n",
    "from sympy import *\n",
    "\n",
    "A = matrix([\n",
    "    [1,3,5,7],\n",
    "    [6,0,4,12],\n",
    "    [0,3,6,15],\n",
    "    [6,0,6,24]\n",
    "])\n",
    "\n",
    "b = matrix([\n",
    "    [1],\n",
    "    [4],\n",
    "    [9],\n",
    "    [72/5]\n",
    "])\n",
    "\n",
    "x = matrix([\n",
    "    [-14/5],\n",
    "    [-37/5],\n",
    "    [26/5],\n",
    "    [0]\n",
    "])\n",
    "\n",
    "print(A*x)\n",
    "\n",
    "print(72/5)\n",
    "\n",
    "b_1 = 1\n",
    "b_2 = 4\n",
    "b_3 = 9\n",
    "b_4 = 72/5\n",
    "\n",
    "-6*b_1 -b_2 - 6/5*(b_3 + 1/6*(b_2 - 6*b_1))\n",
    "\n",
    "26*6"
   ]
  }
 ],
 "metadata": {
  "kernelspec": {
   "display_name": "Python 3",
   "language": "python",
   "name": "python3"
  },
  "language_info": {
   "codemirror_mode": {
    "name": "ipython",
    "version": 3
   },
   "file_extension": ".py",
   "mimetype": "text/x-python",
   "name": "python",
   "nbconvert_exporter": "python",
   "pygments_lexer": "ipython3",
   "version": "3.11.6"
  }
 },
 "nbformat": 4,
 "nbformat_minor": 2
}
