{
 "cells": [
  {
   "cell_type": "code",
   "execution_count": null,
   "metadata": {},
   "outputs": [],
   "source": []
  },
  {
   "cell_type": "code",
   "execution_count": 5,
   "metadata": {},
   "outputs": [
    {
     "name": "stdout",
     "output_type": "stream",
     "text": [
      "[[ 2.8]\n",
      " [-0.2]\n",
      " [ 0.6]]\n",
      "[[ 2.8]\n",
      " [-0.2]\n",
      " [ 0.6]]\n"
     ]
    }
   ],
   "source": [
    "from numpy import *\n",
    "from scipy.linalg import *\n",
    "\n",
    "A = matrix([\n",
    "    [1,5,2],\n",
    "    [3,5,-4],\n",
    "    [3,4,-1]\n",
    "])\n",
    "\n",
    "v = matrix([\n",
    "    [3],\n",
    "    [5],\n",
    "    [7]\n",
    "])\n",
    "\n",
    "x = solve(A,v)\n",
    "\n",
    "x_prima = (1/5)*matrix([\n",
    "    [14],\n",
    "    [-1],\n",
    "    [3]\n",
    "])\n",
    "\n",
    "print(x)\n",
    "print(x_prima)"
   ]
  }
 ],
 "metadata": {
  "kernelspec": {
   "display_name": "Python 3",
   "language": "python",
   "name": "python3"
  },
  "language_info": {
   "codemirror_mode": {
    "name": "ipython",
    "version": 3
   },
   "file_extension": ".py",
   "mimetype": "text/x-python",
   "name": "python",
   "nbconvert_exporter": "python",
   "pygments_lexer": "ipython3",
   "version": "3.11.6"
  }
 },
 "nbformat": 4,
 "nbformat_minor": 2
}
