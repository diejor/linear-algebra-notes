{
 "cells": [
  {
   "cell_type": "code",
   "execution_count": 5,
   "metadata": {},
   "outputs": [
    {
     "data": {
      "text/plain": [
       "matrix([[ 2.        , -4.        ,  1.        ,  2.        ],\n",
       "        [ 0.        , -3.        , -2.5       , -5.        ],\n",
       "        [ 0.        ,  0.        ,  1.33333333,  1.66666667]])"
      ]
     },
     "execution_count": 5,
     "metadata": {},
     "output_type": "execute_result"
    }
   ],
   "source": [
    "from numpy import *\n",
    "from scipy.linalg import *\n",
    "\n",
    "A = matrix([\n",
    "    [2,-4,1],\n",
    "    [1,-5,-2],\n",
    "    [-1,1,0]\n",
    "])\n",
    "\n",
    "b = matrix([\n",
    "    [2],\n",
    "    [-4],\n",
    "    [-1],\n",
    "])\n",
    "\n",
    "E_21 = matrix([\n",
    "    [1,0,0],\n",
    "    [-1/2,1,0],\n",
    "    [0,0,1]\n",
    "])\n",
    "\n",
    "E_31 = matrix([\n",
    "    [1,0,0],\n",
    "    [0,1,0],\n",
    "    [1/2,0,1]\n",
    "])\n",
    "\n",
    "E_32 = matrix([\n",
    "    [1,0,0],\n",
    "    [0,1,0],\n",
    "    [0,-1/3,1]\n",
    "])\n",
    "\n",
    "aug = concatenate((A,b),axis=1)\n",
    "\n",
    "E_32*E_31*E_21*aug\n"
   ]
  },
  {
   "cell_type": "code",
   "execution_count": 6,
   "metadata": {},
   "outputs": [
    {
     "data": {
      "text/plain": [
       "matrix([[1.625],\n",
       "        [0.625],\n",
       "        [1.25 ]])"
      ]
     },
     "execution_count": 6,
     "metadata": {},
     "output_type": "execute_result"
    }
   ],
   "source": [
    "\n",
    "# Solve for x\n",
    "\n",
    "x = linalg.solve(A,b)\n",
    "\n",
    "x\n"
   ]
  },
  {
   "cell_type": "code",
   "execution_count": 17,
   "metadata": {},
   "outputs": [
    {
     "name": "stdout",
     "output_type": "stream",
     "text": [
      "L\n",
      "[[ 1.         -0.         -0.        ]\n",
      " [-0.5         1.         -0.        ]\n",
      " [ 0.66666667 -0.33333333  1.        ]]\n",
      "[[ 1.          0.          0.        ]\n",
      " [-0.5         1.          0.        ]\n",
      " [ 0.66666667 -0.33333333  1.        ]]\n"
     ]
    }
   ],
   "source": [
    "P, L, U = lu(A)\n",
    "\n",
    "print(\"L\")\n",
    "print(inv(L))\n",
    "\n",
    "print((E_32*E_31*E_21))"
   ]
  }
 ],
 "metadata": {
  "kernelspec": {
   "display_name": "Python 3",
   "language": "python",
   "name": "python3"
  },
  "language_info": {
   "codemirror_mode": {
    "name": "ipython",
    "version": 3
   },
   "file_extension": ".py",
   "mimetype": "text/x-python",
   "name": "python",
   "nbconvert_exporter": "python",
   "pygments_lexer": "ipython3",
   "version": "3.11.5"
  },
  "orig_nbformat": 4
 },
 "nbformat": 4,
 "nbformat_minor": 2
}
