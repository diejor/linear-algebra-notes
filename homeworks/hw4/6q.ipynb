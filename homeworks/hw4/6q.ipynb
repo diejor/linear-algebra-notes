{
 "cells": [
  {
   "cell_type": "code",
   "execution_count": 10,
   "metadata": {},
   "outputs": [
    {
     "name": "stdout",
     "output_type": "stream",
     "text": [
      "[[ 0  0  0  0]\n",
      " [ 0  2  2  2]\n",
      " [ 0  0  1  1]\n",
      " [ 0  0  0 -2]]\n"
     ]
    }
   ],
   "source": [
    "from numpy import *\n",
    "from scipy.linalg import *\n",
    "\n",
    "a = 0\n",
    "b = 2\n",
    "c = 3\n",
    "d = 1\n",
    "\n",
    "A = matrix([\n",
    "    [a, a, a, a],\n",
    "    [a, b, b, b],\n",
    "    [a, b, c, c],\n",
    "    [a, b, c, d]\n",
    "])\n",
    "\n",
    "E_21 = matrix([\n",
    "    [1, 0, 0, 0],\n",
    "    [-1, 1, 0, 0],\n",
    "    [0, 0, 1, 0],\n",
    "    [0, 0, 0, 1]\n",
    "])\n",
    "\n",
    "E_31 = matrix([\n",
    "    [1, 0, 0, 0],\n",
    "    [0, 1, 0, 0],\n",
    "    [-1, 0, 1, 0],\n",
    "    [0, 0, 0, 1]\n",
    "])\n",
    "\n",
    "E_41 = matrix([\n",
    "    [1, 0, 0, 0],\n",
    "    [0, 1, 0, 0],\n",
    "    [0, 0, 1, 0],\n",
    "    [-1, 0, 0, 1]\n",
    "])\n",
    "\n",
    "E_32 = matrix([\n",
    "    [1, 0, 0, 0],\n",
    "    [0, 1, 0, 0],\n",
    "    [0, -1, 1, 0],\n",
    "    [0, 0, 0, 1]\n",
    "])\n",
    "\n",
    "E_42 = matrix([\n",
    "    [1, 0, 0, 0],\n",
    "    [0, 1, 0, 0],\n",
    "    [0, 0, 1, 0],\n",
    "    [0, -1, 0, 1]\n",
    "])\n",
    "\n",
    "E_43 = matrix([\n",
    "    [1, 0, 0, 0],\n",
    "    [0, 1, 0, 0],\n",
    "    [0, 0, 1, 0],\n",
    "    [0, 0, -1, 1]\n",
    "])\n",
    "\n",
    "print(E_43 * E_42 * E_32 * E_41 * E_31 * E_21 * A)\n",
    "\n"
   ]
  }
 ],
 "metadata": {
  "kernelspec": {
   "display_name": "Python 3",
   "language": "python",
   "name": "python3"
  },
  "language_info": {
   "codemirror_mode": {
    "name": "ipython",
    "version": 3
   },
   "file_extension": ".py",
   "mimetype": "text/x-python",
   "name": "python",
   "nbconvert_exporter": "python",
   "pygments_lexer": "ipython3",
   "version": "3.11.5"
  },
  "orig_nbformat": 4
 },
 "nbformat": 4,
 "nbformat_minor": 2
}
