{
 "cells": [
  {
   "cell_type": "code",
   "execution_count": 15,
   "metadata": {},
   "outputs": [
    {
     "name": "stdout",
     "output_type": "stream",
     "text": [
      "A is not invertible\n"
     ]
    }
   ],
   "source": [
    "from numpy import *\n",
    "from scipy.linalg import * \n",
    "\n",
    "def is_invertible(A):\n",
    "    return det(A) != 0\n",
    "    \n",
    "c = 3\n",
    "\n",
    "A = matrix([\n",
    "    [ 3, 2,-1],\n",
    "    [ 1, 0, 2],\n",
    "    [-2,-2, c]\n",
    "])\n",
    "\n",
    "# is A invertible?\n",
    "if (is_invertible(A)):\n",
    "    print(\"A is invertible\")\n",
    "else:\n",
    "    print(\"A is not invertible\")\n"
   ]
  }
 ],
 "metadata": {
  "kernelspec": {
   "display_name": "Python 3",
   "language": "python",
   "name": "python3"
  },
  "language_info": {
   "codemirror_mode": {
    "name": "ipython",
    "version": 3
   },
   "file_extension": ".py",
   "mimetype": "text/x-python",
   "name": "python",
   "nbconvert_exporter": "python",
   "pygments_lexer": "ipython3",
   "version": "3.11.5"
  },
  "orig_nbformat": 4
 },
 "nbformat": 4,
 "nbformat_minor": 2
}
