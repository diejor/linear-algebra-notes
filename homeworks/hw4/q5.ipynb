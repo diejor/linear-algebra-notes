{
 "cells": [
  {
   "cell_type": "code",
   "execution_count": 13,
   "metadata": {},
   "outputs": [
    {
     "name": "stdout",
     "output_type": "stream",
     "text": [
      "[[ 2  1  1]\n",
      " [ 0 -2  0]\n",
      " [ 6  3  5]]\n",
      "\n",
      "[[ 2  1  1]\n",
      " [ 0 -2  0]\n",
      " [ 0  0  2]]\n",
      "\n",
      "[[2. 1. 1.]\n",
      " [4. 0. 2.]\n",
      " [6. 3. 5.]]\n",
      "\n"
     ]
    }
   ],
   "source": [
    "from numpy import *\n",
    "from scipy.linalg import *\n",
    "\n",
    "set_printoptions(precision=3, suppress=True)\n",
    "\n",
    "A = matrix([\n",
    "    [2,1,1],\n",
    "    [4,0,2],\n",
    "    [6,3,5]\n",
    "])\n",
    "\n",
    "E_21 = matrix([\n",
    "    [1,0,0],\n",
    "    [-2,1,0],\n",
    "    [0,0,1]\n",
    "])\n",
    "\n",
    "print(E_21*A)\n",
    "print()\n",
    "\n",
    "E_31 = matrix([\n",
    "    [1,0,0],\n",
    "    [0,1,0],\n",
    "    [-3,0,1]\n",
    "])\n",
    "\n",
    "print(E_31*E_21*A)\n",
    "print()\n",
    "\n",
    "print(inv(E_31*E_21)*E_31*E_21*A)\n",
    "print()\n"
   ]
  }
 ],
 "metadata": {
  "kernelspec": {
   "display_name": "Python 3",
   "language": "python",
   "name": "python3"
  },
  "language_info": {
   "codemirror_mode": {
    "name": "ipython",
    "version": 3
   },
   "file_extension": ".py",
   "mimetype": "text/x-python",
   "name": "python",
   "nbconvert_exporter": "python",
   "pygments_lexer": "ipython3",
   "version": "3.11.5"
  },
  "orig_nbformat": 4
 },
 "nbformat": 4,
 "nbformat_minor": 2
}
