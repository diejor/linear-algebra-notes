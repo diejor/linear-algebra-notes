{
 "cells": [
  {
   "cell_type": "code",
   "execution_count": 4,
   "metadata": {},
   "outputs": [
    {
     "name": "stdout",
     "output_type": "stream",
     "text": [
      "ATA = \n",
      "[[14 29]\n",
      " [29 62]]\n",
      "ATA_inv = \n",
      "[[ 2.2962963  -1.07407407]\n",
      " [-1.07407407  0.51851852]]\n",
      "ATb = \n",
      "[[-11]\n",
      " [-21]]\n",
      "xhat = \n"
     ]
    }
   ],
   "source": [
    "from numpy import *\n",
    "\n",
    "A = matrix([\n",
    "    [1, 2],\n",
    "    [3, 7],\n",
    "    [-2, -3]\n",
    "])\n",
    "\n",
    "b = matrix([\n",
    "    [1],\n",
    "    [-2],\n",
    "    [3]\n",
    "])\n",
    "\n",
    "ATA = A.T * A\n",
    "\n",
    "print(\"ATA = \")\n",
    "print(ATA)\n",
    "\n",
    "ATA_inv = linalg.inv(ATA)\n",
    "\n",
    "print(\"ATA_inv = \")\n",
    "print(ATA_inv)\n",
    "\n",
    "ATb = A.T * b\n",
    "\n",
    "print(\"ATb = \")\n",
    "print(ATb)\n",
    "\n",
    "xhat = ATA_inv * ATb\n",
    "\n",
    "print(\"xhat = \")\n",
    "            "
   ]
  }
 ],
 "metadata": {
  "kernelspec": {
   "display_name": "Python 3",
   "language": "python",
   "name": "python3"
  },
  "language_info": {
   "codemirror_mode": {
    "name": "ipython",
    "version": 3
   },
   "file_extension": ".py",
   "mimetype": "text/x-python",
   "name": "python",
   "nbconvert_exporter": "python",
   "pygments_lexer": "ipython3",
   "version": "3.10.12"
  }
 },
 "nbformat": 4,
 "nbformat_minor": 2
}
